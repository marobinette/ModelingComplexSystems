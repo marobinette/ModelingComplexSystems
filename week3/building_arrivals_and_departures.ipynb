{
 "cells": [
  {
   "cell_type": "code",
   "execution_count": null,
   "id": "3aaf0c99",
   "metadata": {},
   "outputs": [],
   "source": [
    "import random\n",
    "\n",
    "def arrivals_and_departures(arrivals):\n",
    "    nt = arrivals / 7\n",
    "    numberOfPeople = 0\n",
    "    for num in range(1, 7):\n",
    "        rn = random.uniform(0, 1)\n",
    "        if rn < nt:\n",
    "            numberOfPeople = numberOfPeople + 1\n",
    "    \n",
    "    return numberOfPeople\n",
    "    "
   ]
  },
  {
   "cell_type": "code",
   "execution_count": 2,
   "id": "878d0c4d",
   "metadata": {},
   "outputs": [
    {
     "name": "stdout",
     "output_type": "stream",
     "text": [
      "5\n"
     ]
    }
   ],
   "source": [
    "print(arrivals_and_departures(5))"
   ]
  }
 ],
 "metadata": {
  "kernelspec": {
   "display_name": "base",
   "language": "python",
   "name": "python3"
  },
  "language_info": {
   "codemirror_mode": {
    "name": "ipython",
    "version": 3
   },
   "file_extension": ".py",
   "mimetype": "text/x-python",
   "name": "python",
   "nbconvert_exporter": "python",
   "pygments_lexer": "ipython3",
   "version": "3.13.5"
  }
 },
 "nbformat": 4,
 "nbformat_minor": 5
}
