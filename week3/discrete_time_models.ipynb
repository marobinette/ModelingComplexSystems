{
 "cells": [
  {
   "cell_type": "code",
   "execution_count": null,
   "id": "b2b66f64",
   "metadata": {},
   "outputs": [],
   "source": [
    "class DiscreetTimeModel:\n",
    "    def __init__(self, x, result, a):\n",
    "        self.x = x\n",
    "        self.result = result\n",
    "        self.result.append(x)\n",
    "        self.a = a\n",
    "        \n",
    "    def observe(self):\n",
    "        return self.result.append(self.x)\n",
    "\n",
    "    def update(self):\n",
    "        self.x = self.a * self.x"
   ]
  },
  {
   "cell_type": "code",
   "execution_count": 12,
   "id": "ad530727",
   "metadata": {},
   "outputs": [
    {
     "name": "stdout",
     "output_type": "stream",
     "text": [
      "[1, 1.1, 1.2100000000000002, 1.3310000000000004, 1.4641000000000006, 1.6105100000000008, 1.771561000000001, 1.9487171000000014, 2.1435888100000016, 2.357947691000002, 2.5937424601000023, 2.853116706110003, 3.1384283767210035, 3.4522712143931042, 3.797498335832415, 4.177248169415656, 4.594972986357222, 5.054470284992944, 5.559917313492239, 6.115909044841463, 6.72749994932561, 7.400249944258172, 8.140274938683989, 8.954302432552389, 9.849732675807628, 10.834705943388391, 11.91817653772723, 13.109994191499954, 14.420993610649951, 15.863092971714948, 17.449402268886445]\n"
     ]
    }
   ],
   "source": [
    "discreet_model = DiscreetTimeModel(x=1, result=[], a=1.1)\n",
    "\n",
    "for t in range(30):\n",
    "    discreet_model.update()\n",
    "    discreet_model.observe()\n",
    "\n",
    "print(discreet_model.result)\n",
    "\n"
   ]
  }
 ],
 "metadata": {
  "kernelspec": {
   "display_name": "base",
   "language": "python",
   "name": "python3"
  },
  "language_info": {
   "codemirror_mode": {
    "name": "ipython",
    "version": 3
   },
   "file_extension": ".py",
   "mimetype": "text/x-python",
   "name": "python",
   "nbconvert_exporter": "python",
   "pygments_lexer": "ipython3",
   "version": "3.13.5"
  }
 },
 "nbformat": 4,
 "nbformat_minor": 5
}
